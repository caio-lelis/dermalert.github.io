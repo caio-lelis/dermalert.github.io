{
 "cells": [
  {
   "cell_type": "markdown",
   "id": "d3d3b0ae",
   "metadata": {},
   "source": [
    "# Soma Skin Cancer Classifier"
   ]
  },
  {
   "cell_type": "markdown",
   "id": "9bf869c7",
   "metadata": {},
   "source": [
    "### Este notebook utiliza um modelo treinado com ResNet18 para classificar imagens de lesões de pele como \"benigno\" ou \"maligno\"."
   ]
  },
  {
   "cell_type": "markdown",
   "id": "a0accc3a",
   "metadata": {},
   "source": [
    "#### Instalando Dependências"
   ]
  },
  {
   "cell_type": "code",
   "execution_count": 1,
   "id": "ffb92ff7",
   "metadata": {},
   "outputs": [
    {
     "name": "stdout",
     "output_type": "stream",
     "text": [
      "Requirement already satisfied: torch in c:\\users\\renan\\appdata\\local\\programs\\python\\python312\\lib\\site-packages (2.7.0)\n",
      "Requirement already satisfied: torchvision in c:\\users\\renan\\appdata\\local\\programs\\python\\python312\\lib\\site-packages (0.22.0)\n",
      "Requirement already satisfied: pillow in c:\\users\\renan\\appdata\\local\\programs\\python\\python312\\lib\\site-packages (10.4.0)\n",
      "Requirement already satisfied: filelock in c:\\users\\renan\\appdata\\local\\programs\\python\\python312\\lib\\site-packages (from torch) (3.18.0)\n",
      "Requirement already satisfied: typing-extensions>=4.10.0 in c:\\users\\renan\\appdata\\local\\programs\\python\\python312\\lib\\site-packages (from torch) (4.12.2)\n",
      "Requirement already satisfied: sympy>=1.13.3 in c:\\users\\renan\\appdata\\local\\programs\\python\\python312\\lib\\site-packages (from torch) (1.14.0)\n",
      "Requirement already satisfied: networkx in c:\\users\\renan\\appdata\\local\\programs\\python\\python312\\lib\\site-packages (from torch) (3.4.2)\n",
      "Requirement already satisfied: jinja2 in c:\\users\\renan\\appdata\\local\\programs\\python\\python312\\lib\\site-packages (from torch) (3.1.4)\n",
      "Requirement already satisfied: fsspec in c:\\users\\renan\\appdata\\local\\programs\\python\\python312\\lib\\site-packages (from torch) (2025.3.2)\n",
      "Requirement already satisfied: setuptools in c:\\users\\renan\\appdata\\local\\programs\\python\\python312\\lib\\site-packages (from torch) (80.3.1)\n",
      "Requirement already satisfied: numpy in c:\\users\\renan\\appdata\\local\\programs\\python\\python312\\lib\\site-packages (from torchvision) (2.1.3)\n",
      "Requirement already satisfied: mpmath<1.4,>=1.1.0 in c:\\users\\renan\\appdata\\local\\programs\\python\\python312\\lib\\site-packages (from sympy>=1.13.3->torch) (1.3.0)\n",
      "Requirement already satisfied: MarkupSafe>=2.0 in c:\\users\\renan\\appdata\\local\\programs\\python\\python312\\lib\\site-packages (from jinja2->torch) (2.1.5)\n"
     ]
    },
    {
     "name": "stderr",
     "output_type": "stream",
     "text": [
      "\n",
      "[notice] A new release of pip is available: 24.3.1 -> 25.1.1\n",
      "[notice] To update, run: python.exe -m pip install --upgrade pip\n"
     ]
    }
   ],
   "source": [
    "!pip install torch torchvision pillow --user"
   ]
  },
  {
   "cell_type": "markdown",
   "id": "a55033e6",
   "metadata": {},
   "source": [
    "#### Importação de bibliotecas"
   ]
  },
  {
   "cell_type": "code",
   "execution_count": 2,
   "id": "7e57408a",
   "metadata": {},
   "outputs": [],
   "source": [
    "import torch\n",
    "from torchvision import transforms, models\n",
    "from PIL import Image\n",
    "import io"
   ]
  },
  {
   "cell_type": "markdown",
   "id": "478a5200",
   "metadata": {},
   "source": [
    "#### Carregamento do Modelo"
   ]
  },
  {
   "cell_type": "code",
   "execution_count": 3,
   "id": "c054b9da",
   "metadata": {},
   "outputs": [
    {
     "data": {
      "text/plain": [
       "ResNet(\n",
       "  (conv1): Conv2d(3, 64, kernel_size=(7, 7), stride=(2, 2), padding=(3, 3), bias=False)\n",
       "  (bn1): BatchNorm2d(64, eps=1e-05, momentum=0.1, affine=True, track_running_stats=True)\n",
       "  (relu): ReLU(inplace=True)\n",
       "  (maxpool): MaxPool2d(kernel_size=3, stride=2, padding=1, dilation=1, ceil_mode=False)\n",
       "  (layer1): Sequential(\n",
       "    (0): BasicBlock(\n",
       "      (conv1): Conv2d(64, 64, kernel_size=(3, 3), stride=(1, 1), padding=(1, 1), bias=False)\n",
       "      (bn1): BatchNorm2d(64, eps=1e-05, momentum=0.1, affine=True, track_running_stats=True)\n",
       "      (relu): ReLU(inplace=True)\n",
       "      (conv2): Conv2d(64, 64, kernel_size=(3, 3), stride=(1, 1), padding=(1, 1), bias=False)\n",
       "      (bn2): BatchNorm2d(64, eps=1e-05, momentum=0.1, affine=True, track_running_stats=True)\n",
       "    )\n",
       "    (1): BasicBlock(\n",
       "      (conv1): Conv2d(64, 64, kernel_size=(3, 3), stride=(1, 1), padding=(1, 1), bias=False)\n",
       "      (bn1): BatchNorm2d(64, eps=1e-05, momentum=0.1, affine=True, track_running_stats=True)\n",
       "      (relu): ReLU(inplace=True)\n",
       "      (conv2): Conv2d(64, 64, kernel_size=(3, 3), stride=(1, 1), padding=(1, 1), bias=False)\n",
       "      (bn2): BatchNorm2d(64, eps=1e-05, momentum=0.1, affine=True, track_running_stats=True)\n",
       "    )\n",
       "  )\n",
       "  (layer2): Sequential(\n",
       "    (0): BasicBlock(\n",
       "      (conv1): Conv2d(64, 128, kernel_size=(3, 3), stride=(2, 2), padding=(1, 1), bias=False)\n",
       "      (bn1): BatchNorm2d(128, eps=1e-05, momentum=0.1, affine=True, track_running_stats=True)\n",
       "      (relu): ReLU(inplace=True)\n",
       "      (conv2): Conv2d(128, 128, kernel_size=(3, 3), stride=(1, 1), padding=(1, 1), bias=False)\n",
       "      (bn2): BatchNorm2d(128, eps=1e-05, momentum=0.1, affine=True, track_running_stats=True)\n",
       "      (downsample): Sequential(\n",
       "        (0): Conv2d(64, 128, kernel_size=(1, 1), stride=(2, 2), bias=False)\n",
       "        (1): BatchNorm2d(128, eps=1e-05, momentum=0.1, affine=True, track_running_stats=True)\n",
       "      )\n",
       "    )\n",
       "    (1): BasicBlock(\n",
       "      (conv1): Conv2d(128, 128, kernel_size=(3, 3), stride=(1, 1), padding=(1, 1), bias=False)\n",
       "      (bn1): BatchNorm2d(128, eps=1e-05, momentum=0.1, affine=True, track_running_stats=True)\n",
       "      (relu): ReLU(inplace=True)\n",
       "      (conv2): Conv2d(128, 128, kernel_size=(3, 3), stride=(1, 1), padding=(1, 1), bias=False)\n",
       "      (bn2): BatchNorm2d(128, eps=1e-05, momentum=0.1, affine=True, track_running_stats=True)\n",
       "    )\n",
       "  )\n",
       "  (layer3): Sequential(\n",
       "    (0): BasicBlock(\n",
       "      (conv1): Conv2d(128, 256, kernel_size=(3, 3), stride=(2, 2), padding=(1, 1), bias=False)\n",
       "      (bn1): BatchNorm2d(256, eps=1e-05, momentum=0.1, affine=True, track_running_stats=True)\n",
       "      (relu): ReLU(inplace=True)\n",
       "      (conv2): Conv2d(256, 256, kernel_size=(3, 3), stride=(1, 1), padding=(1, 1), bias=False)\n",
       "      (bn2): BatchNorm2d(256, eps=1e-05, momentum=0.1, affine=True, track_running_stats=True)\n",
       "      (downsample): Sequential(\n",
       "        (0): Conv2d(128, 256, kernel_size=(1, 1), stride=(2, 2), bias=False)\n",
       "        (1): BatchNorm2d(256, eps=1e-05, momentum=0.1, affine=True, track_running_stats=True)\n",
       "      )\n",
       "    )\n",
       "    (1): BasicBlock(\n",
       "      (conv1): Conv2d(256, 256, kernel_size=(3, 3), stride=(1, 1), padding=(1, 1), bias=False)\n",
       "      (bn1): BatchNorm2d(256, eps=1e-05, momentum=0.1, affine=True, track_running_stats=True)\n",
       "      (relu): ReLU(inplace=True)\n",
       "      (conv2): Conv2d(256, 256, kernel_size=(3, 3), stride=(1, 1), padding=(1, 1), bias=False)\n",
       "      (bn2): BatchNorm2d(256, eps=1e-05, momentum=0.1, affine=True, track_running_stats=True)\n",
       "    )\n",
       "  )\n",
       "  (layer4): Sequential(\n",
       "    (0): BasicBlock(\n",
       "      (conv1): Conv2d(256, 512, kernel_size=(3, 3), stride=(2, 2), padding=(1, 1), bias=False)\n",
       "      (bn1): BatchNorm2d(512, eps=1e-05, momentum=0.1, affine=True, track_running_stats=True)\n",
       "      (relu): ReLU(inplace=True)\n",
       "      (conv2): Conv2d(512, 512, kernel_size=(3, 3), stride=(1, 1), padding=(1, 1), bias=False)\n",
       "      (bn2): BatchNorm2d(512, eps=1e-05, momentum=0.1, affine=True, track_running_stats=True)\n",
       "      (downsample): Sequential(\n",
       "        (0): Conv2d(256, 512, kernel_size=(1, 1), stride=(2, 2), bias=False)\n",
       "        (1): BatchNorm2d(512, eps=1e-05, momentum=0.1, affine=True, track_running_stats=True)\n",
       "      )\n",
       "    )\n",
       "    (1): BasicBlock(\n",
       "      (conv1): Conv2d(512, 512, kernel_size=(3, 3), stride=(1, 1), padding=(1, 1), bias=False)\n",
       "      (bn1): BatchNorm2d(512, eps=1e-05, momentum=0.1, affine=True, track_running_stats=True)\n",
       "      (relu): ReLU(inplace=True)\n",
       "      (conv2): Conv2d(512, 512, kernel_size=(3, 3), stride=(1, 1), padding=(1, 1), bias=False)\n",
       "      (bn2): BatchNorm2d(512, eps=1e-05, momentum=0.1, affine=True, track_running_stats=True)\n",
       "    )\n",
       "  )\n",
       "  (avgpool): AdaptiveAvgPool2d(output_size=(1, 1))\n",
       "  (fc): Linear(in_features=512, out_features=2, bias=True)\n",
       ")"
      ]
     },
     "execution_count": 3,
     "metadata": {},
     "output_type": "execute_result"
    }
   ],
   "source": [
    "# Carrega o modelo salvo\n",
    "model = models.resnet18(weights=None)\n",
    "model.fc = torch.nn.Linear(model.fc.in_features, 2)\n",
    "\n",
    "# Substitua o caminho pelo local correto do seu arquivo .pt\n",
    "model.load_state_dict(torch.load(\"./database-sscc/skin_cancer_resnet18_version1.pt\", map_location=\"cpu\"))\n",
    "model.eval()"
   ]
  },
  {
   "cell_type": "markdown",
   "id": "0faed80d",
   "metadata": {},
   "source": [
    "#### Definição das Transformações"
   ]
  },
  {
   "cell_type": "code",
   "execution_count": 4,
   "id": "3b8a41f9",
   "metadata": {},
   "outputs": [],
   "source": [
    "transform = transforms.Compose([\n",
    "    transforms.Resize((224, 224)),\n",
    "    transforms.ToTensor()\n",
    "])"
   ]
  },
  {
   "cell_type": "markdown",
   "id": "03332425",
   "metadata": {},
   "source": [
    "#### Abaixo, temos a função que será utilizada para retornar a classificação da lesão:"
   ]
  },
  {
   "cell_type": "code",
   "execution_count": 5,
   "id": "64aa4a42",
   "metadata": {},
   "outputs": [],
   "source": [
    "def classificar_tipo_lesao(file_content: bytes) -> str:\n",
    "    try:\n",
    "        imagem = Image.open(io.BytesIO(file_content)).convert(\"RGB\")\n",
    "        input_tensor = transform(imagem).unsqueeze(0)\n",
    "\n",
    "        with torch.no_grad():\n",
    "            output = model(input_tensor)\n",
    "            pred = torch.argmax(output, dim=1).item()\n",
    "\n",
    "        return \"benigno\" if pred == 0 else \"maligno\"\n",
    "\n",
    "    except Exception as e:\n",
    "        print(f\"Erro ao classificar a imagem: {str(e)}\")\n",
    "        return \"Erro ao classificar a imagem\""
   ]
  },
  {
   "cell_type": "markdown",
   "id": "21d5158b",
   "metadata": {},
   "source": [
    "#### Teste com as imagens"
   ]
  },
  {
   "cell_type": "code",
   "execution_count": 6,
   "id": "faa8b0ab",
   "metadata": {},
   "outputs": [
    {
     "name": "stdout",
     "output_type": "stream",
     "text": [
      "Resultado da classificação: maligno\n"
     ]
    }
   ],
   "source": [
    "caminho_imagem = \"./imagens-scic/actinic-keratosis.jpg\"\n",
    "\n",
    "with open(caminho_imagem, \"rb\") as f:\n",
    "    conteudo = f.read()\n",
    "\n",
    "resultado = classificar_tipo_lesao(conteudo)\n",
    "print(\"Resultado da classificação:\", resultado)"
   ]
  },
  {
   "cell_type": "code",
   "execution_count": 7,
   "id": "3df0c9e8",
   "metadata": {},
   "outputs": [
    {
     "name": "stdout",
     "output_type": "stream",
     "text": [
      "Resultado da classificação: benigno\n"
     ]
    }
   ],
   "source": [
    "caminho_imagem = \"./imagens-scic/benign-keratosis.jpg\"\n",
    "\n",
    "with open(caminho_imagem, \"rb\") as f:\n",
    "    conteudo = f.read()\n",
    "\n",
    "resultado = classificar_tipo_lesao(conteudo)\n",
    "print(\"Resultado da classificação:\", resultado)"
   ]
  },
  {
   "cell_type": "code",
   "execution_count": 8,
   "id": "b2444aea",
   "metadata": {},
   "outputs": [
    {
     "name": "stdout",
     "output_type": "stream",
     "text": [
      "Resultado da classificação: maligno\n"
     ]
    }
   ],
   "source": [
    "caminho_imagem = \"./imagens-scic/carcinoma.jpg\"\n",
    "\n",
    "with open(caminho_imagem, \"rb\") as f:\n",
    "    conteudo = f.read()\n",
    "\n",
    "resultado = classificar_tipo_lesao(conteudo)\n",
    "print(\"Resultado da classificação:\", resultado)"
   ]
  },
  {
   "cell_type": "code",
   "execution_count": 9,
   "id": "9d8b4048",
   "metadata": {},
   "outputs": [
    {
     "name": "stdout",
     "output_type": "stream",
     "text": [
      "Resultado da classificação: benigno\n"
     ]
    }
   ],
   "source": [
    "caminho_imagem = \"./imagens-scic/dermatofibrona.jpg\"\n",
    "\n",
    "with open(caminho_imagem, \"rb\") as f:\n",
    "    conteudo = f.read()\n",
    "\n",
    "resultado = classificar_tipo_lesao(conteudo)\n",
    "print(\"Resultado da classificação:\", resultado)"
   ]
  },
  {
   "cell_type": "code",
   "execution_count": 10,
   "id": "af0be3d2",
   "metadata": {},
   "outputs": [
    {
     "name": "stdout",
     "output_type": "stream",
     "text": [
      "Resultado da classificação: benigno\n"
     ]
    }
   ],
   "source": [
    "caminho_imagem = \"./imagens-scic/image.png\"\n",
    "\n",
    "with open(caminho_imagem, \"rb\") as f:\n",
    "    conteudo = f.read()\n",
    "\n",
    "resultado = classificar_tipo_lesao(conteudo)\n",
    "print(\"Resultado da classificação:\", resultado)"
   ]
  },
  {
   "cell_type": "code",
   "execution_count": 11,
   "id": "ed8d235a",
   "metadata": {},
   "outputs": [
    {
     "name": "stdout",
     "output_type": "stream",
     "text": [
      "Resultado da classificação: benigno\n"
     ]
    }
   ],
   "source": [
    "caminho_imagem = \"./imagens-scic/melanocytic-nevus.jpg\"\n",
    "\n",
    "with open(caminho_imagem, \"rb\") as f:\n",
    "    conteudo = f.read()\n",
    "\n",
    "resultado = classificar_tipo_lesao(conteudo)\n",
    "print(\"Resultado da classificação:\", resultado)"
   ]
  },
  {
   "cell_type": "code",
   "execution_count": 12,
   "id": "046b1f06",
   "metadata": {},
   "outputs": [
    {
     "name": "stdout",
     "output_type": "stream",
     "text": [
      "Resultado da classificação: maligno\n"
     ]
    }
   ],
   "source": [
    "caminho_imagem = \"./imagens-scic/melanoma.jpg\"\n",
    "\n",
    "with open(caminho_imagem, \"rb\") as f:\n",
    "    conteudo = f.read()\n",
    "\n",
    "resultado = classificar_tipo_lesao(conteudo)\n",
    "print(\"Resultado da classificação:\", resultado)"
   ]
  },
  {
   "cell_type": "code",
   "execution_count": 13,
   "metadata": {},
   "outputs": [
    {
     "name": "stdout",
     "output_type": "stream",
     "text": [
      "Resultado da classificação: benigno\n"
     ]
    }
   ],
   "source": [
    "caminho_imagem = \"./imagens-scic/vascular-lesion.jpg\"\n",
    "\n",
    "with open(caminho_imagem, \"rb\") as f:\n",
    "    conteudo = f.read()\n",
    "\n",
    "resultado = classificar_tipo_lesao(conteudo)\n",
    "print(\"Resultado da classificação:\", resultado)"
   ]
  }
 ],
 "metadata": {
  "kernelspec": {
   "display_name": "Python 3",
   "language": "python",
   "name": "python3"
  },
  "language_info": {
   "codemirror_mode": {
    "name": "ipython",
    "version": 3
   },
   "file_extension": ".py",
   "mimetype": "text/x-python",
   "name": "python",
   "nbconvert_exporter": "python",
   "pygments_lexer": "ipython3",
   "version": "3.12.4"
  }
 },
 "nbformat": 4,
 "nbformat_minor": 5
}
