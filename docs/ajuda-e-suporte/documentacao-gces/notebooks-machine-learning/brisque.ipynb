{
 "cells": [
  {
   "cell_type": "markdown",
   "id": "47342def",
   "metadata": {},
   "source": [
    "Adequamos as funções de avaliação de qualidade de imagem para facilitar os testes em um notebook local com o modelo BRISQUE. Na versão anterior, projetada para um endpoint, a função processava a imagem a partir de um fluxo de bytes.\n",
    "\n",
    "A versão atual foi modificada para aceitar diretamente arquivos de imagem locais (PNG, JPG, etc.), simplificando o processo. Essa adaptação nos permite testar e validar o comportamento do modelo de forma muito mais eficiente e direta no notebook."
   ]
  },
  {
   "cell_type": "markdown",
   "id": "4cdeb5ac",
   "metadata": {},
   "source": [
    "## Importações"
   ]
  },
  {
   "cell_type": "code",
   "execution_count": 1,
   "id": "9f18587c",
   "metadata": {},
   "outputs": [],
   "source": [
    "import torch\n",
    "import numpy as np\n",
    "from PIL import Image, UnidentifiedImageError\n",
    "from piq import brisque\n",
    "import io"
   ]
  },
  {
   "cell_type": "markdown",
   "id": "9ce63b13",
   "metadata": {},
   "source": [
    "## Funções referentes ao modelo"
   ]
  },
  {
   "cell_type": "code",
   "execution_count": null,
   "id": "1287568e",
   "metadata": {},
   "outputs": [],
   "source": [
    "import torch\n",
    "import numpy as np\n",
    "from PIL import Image, UnidentifiedImageError\n",
    "\n",
    "from piq import brisque\n",
    "\n",
    "def avaliar_qualidade_de_objeto_imagem(img: Image.Image) -> dict:\n",
    "    \"\"\"\n",
    "    Avalia a qualidade de um objeto de imagem (PIL.Image) usando o score BRISQUE.\n",
    "\n",
    "    Args:\n",
    "        img (Image.Image): O objeto de imagem da biblioteca Pillow a ser avaliado.\n",
    "\n",
    "    Returns:\n",
    "        dict: Um dicionário contendo o score e a classificação da qualidade.\n",
    "    \"\"\"\n",
    "    try:\n",
    "        img_rgb = img.convert(\"RGB\")\n",
    "\n",
    "        img_array = np.array(img_rgb).astype(np.float32) / 255.0\n",
    "        img_tensor = torch.tensor(img_array).permute(2, 0, 1).unsqueeze(0)\n",
    "\n",
    "        if img_tensor.shape[2] < 50 or img_tensor.shape[3] < 50:\n",
    "            return {\n",
    "                \"erro\": \"A imagem é muito pequena para avaliação de qualidade.\",\n",
    "                \"score\": None,\n",
    "                \"qualidade\": \"erro\",\n",
    "            }\n",
    "\n",
    "        brisque_score = brisque(img_tensor).item()\n",
    "\n",
    "        if brisque_score < 25:\n",
    "            qualidade = \"boa\"\n",
    "        elif 25 <= brisque_score < 50:\n",
    "            qualidade = \"ruim\"\n",
    "        else:\n",
    "            qualidade = \"péssima\"\n",
    "\n",
    "        return {\"score\": round(brisque_score, 2), \"qualidade\": qualidade}\n",
    "    \n",
    "    except Exception as e:\n",
    "        return {\"erro\": str(e), \"score\": None, \"qualidade\": \"erro\"}"
   ]
  },
  {
   "cell_type": "markdown",
   "id": "718fcc15",
   "metadata": {},
   "source": [
    "## Caso de imagem boa"
   ]
  },
  {
   "cell_type": "code",
   "execution_count": 20,
   "id": "8ce882fc",
   "metadata": {},
   "outputs": [
    {
     "name": "stdout",
     "output_type": "stream",
     "text": [
      "Resultado da imagem: {'score': 16.66, 'qualidade': 'boa'}\n"
     ]
    }
   ],
   "source": [
    "from PIL import Image\n",
    "import requests\n",
    "import io\n",
    "\n",
    "    \n",
    "with Image.open(\"images_brisque/vascular-lesion.jpg\") as imagem_objeto:\n",
    "    resultado = avaliar_qualidade_de_objeto_imagem(imagem_objeto)\n",
    "    print(f\"Resultado da imagem: {resultado}\")\n"
   ]
  },
  {
   "cell_type": "markdown",
   "id": "46109a4a",
   "metadata": {},
   "source": [
    "## Caso de imagem ruim"
   ]
  },
  {
   "cell_type": "code",
   "execution_count": null,
   "id": "f8ded667",
   "metadata": {},
   "outputs": [
    {
     "name": "stdout",
     "output_type": "stream",
     "text": [
      "Resultado da imagem: {'score': 31.14, 'qualidade': 'ruim'}\n"
     ]
    }
   ],
   "source": [
    "from PIL import Image\n",
    "import requests\n",
    "import io\n",
    "\n",
    "    \n",
    "with Image.open(\"images_brisque/imagem_lesao_ruim.jpg\") as imagem_objeto:\n",
    "    resultado = avaliar_qualidade_de_objeto_imagem(imagem_objeto)\n",
    "    print(f\"Resultado da imagem: {resultado}\")\n"
   ]
  }
 ],
 "metadata": {
  "kernelspec": {
   "display_name": "base",
   "language": "python",
   "name": "python3"
  },
  "language_info": {
   "codemirror_mode": {
    "name": "ipython",
    "version": 3
   },
   "file_extension": ".py",
   "mimetype": "text/x-python",
   "name": "python",
   "nbconvert_exporter": "python",
   "pygments_lexer": "ipython3",
   "version": "3.12.4"
  }
 },
 "nbformat": 4,
 "nbformat_minor": 5
}
